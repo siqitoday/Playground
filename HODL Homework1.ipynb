{
  "nbformat": 4,
  "nbformat_minor": 0,
  "metadata": {
    "colab": {
      "name": "Homework1.ipynb",
      "provenance": [],
      "collapsed_sections": [],
      "machine_shape": "hm",
      "include_colab_link": true
    },
    "kernelspec": {
      "name": "python3",
      "display_name": "Python 3"
    },
    "language_info": {
      "name": "python"
    },
    "accelerator": "GPU"
  },
  "cells": [
    {
      "cell_type": "markdown",
      "metadata": {
        "id": "view-in-github",
        "colab_type": "text"
      },
      "source": [
        "<a href=\"https://colab.research.google.com/github/siqitoday/Playground/blob/main/HODL%20Homework1.ipynb\" target=\"_parent\"><img src=\"https://colab.research.google.com/assets/colab-badge.svg\" alt=\"Open In Colab\"/></a>"
      ]
    },
    {
      "cell_type": "code",
      "metadata": {
        "id": "h5kWWfR8z9uZ"
      },
      "source": [
        "import tensorflow as tf\n",
        "from tensorflow import keras\n",
        "import numpy as np\n",
        "import pandas as pd\n",
        "import matplotlib.pyplot as plt\n",
        "\n",
        "# initialize the seeds of different random number generators so that the \n",
        "# results will be the same every time the notebook is run\n",
        "keras.utils.set_random_seed(42)"
      ],
      "execution_count": null,
      "outputs": []
    },
    {
      "cell_type": "markdown",
      "metadata": {
        "id": "oWOYqBF03aBE"
      },
      "source": [
        "# **Introduction**\n",
        "\n",
        "Your goal in this exercise is to recognize sentiment from a facial image. To that end, we will use the 2013 FER ('Facial Expression Recognition'). The dataset consists of ~ 36,000 images, each annotated with one of seven labels: 'angry', 'disgust', 'fear', 'happy', 'sad', 'surprise', 'neutral'. Our goals will be to:\n",
        "\n",
        "1) Build a conv-net from scratch to recognize images.  \n",
        "2) Use transfer learning as an alternative. \n",
        "\n",
        "But first, lets start with grabbing the data itself from Dropbox"
      ]
    },
    {
      "cell_type": "code",
      "source": [
        "!wget -q -P ./ https://www.dropbox.com/s/ia62dg6kpp3q8wb/fer2013.csv"
      ],
      "metadata": {
        "id": "kklgssFnY8Ob"
      },
      "execution_count": null,
      "outputs": []
    },
    {
      "cell_type": "code",
      "metadata": {
        "colab": {
          "base_uri": "https://localhost:8080/"
        },
        "id": "U5S29hLu7djK",
        "outputId": "c620eb73-4184-4f7b-a569-24f6189c2c63"
      },
      "source": [
        "data = pd.read_csv('/content/fer2013.csv')\n",
        "print(data.head())"
      ],
      "execution_count": null,
      "outputs": [
        {
          "output_type": "stream",
          "name": "stdout",
          "text": [
            "   emotion                                             pixels     Usage\n",
            "0        0  70 80 82 72 58 58 60 63 54 58 60 48 89 115 121...  Training\n",
            "1        0  151 150 147 155 148 133 111 140 170 174 182 15...  Training\n",
            "2        2  231 212 156 164 174 138 161 173 182 200 106 38...  Training\n",
            "3        4  24 32 36 30 32 23 19 20 30 41 21 22 32 34 21 1...  Training\n",
            "4        6  4 0 0 0 0 0 0 0 0 0 0 0 3 15 23 28 48 50 58 84...  Training\n"
          ]
        }
      ]
    },
    {
      "cell_type": "markdown",
      "metadata": {
        "id": "BtEmyeIL7o9V"
      },
      "source": [
        "As you can see, each (gray-scale) image is encoded as a list of (2304) pixels that we will reshape into an (48x48) image. This keeps the size of the dataset manageable. Moreover, each image is associated with an emotion label between 0 and 6 that map respectively to the emotions 'angry', 'disgust', 'fear', 'happy', 'sad', 'surprise', and 'neutral'. Let's convert these pixel lists into actual images that we can work with next.  "
      ]
    },
    {
      "cell_type": "code",
      "metadata": {
        "id": "sG4mAu4k-k86"
      },
      "source": [
        "pixels = data['pixels'].tolist()\n",
        "width, height = 48, 48\n",
        "faces = []\n",
        "for pixel_sequence in pixels:\n",
        "    face = [int(pixel) for pixel in pixel_sequence.split(' ')] # read each face as a 1-d array \n",
        "    face = np.asarray(face).reshape(width, height) # reshape the length 2304 1-d array into an 48x48 array\n",
        "    face = np.stack((face,)*3, axis=-1) # convert single channel to three channels simply by replicating the single channel we have. \n",
        "    faces.append(face.astype('float32'))\n",
        "faces = np.asarray(faces)\n",
        "\n",
        "emotions = pd.get_dummies(data['emotion']).to_numpy() # each emotion is 'one-hot' encoded as a 7-dim vector\n",
        "emotions_names = ('angry', 'disgust', 'fear', 'happy', 'sad', 'surprise', 'neutral') "
      ],
      "execution_count": null,
      "outputs": []
    },
    {
      "cell_type": "markdown",
      "metadata": {
        "id": "4WZRh-dDBvWw"
      },
      "source": [
        "Lets take a look at some of these fun images! "
      ]
    },
    {
      "cell_type": "code",
      "metadata": {
        "colab": {
          "base_uri": "https://localhost:8080/",
          "height": 591
        },
        "id": "iqmEpir1B3Mu",
        "outputId": "7627b790-da45-4139-de04-aa730c6c751e"
      },
      "source": [
        "fig = plt.figure(figsize=(10, 10))\n",
        "for i in range(9):\n",
        "    ax = fig.add_subplot(3, 3, i+1)\n",
        "    ax.set_title(f\"{emotions_names[np.argmax(emotions[i])]}\")\n",
        "    ax.imshow(faces[i].astype('uint8'))\n",
        "    ax.axis('off')"
      ],
      "execution_count": null,
      "outputs": [
        {
          "output_type": "display_data",
          "data": {
            "text/plain": [
              "<Figure size 720x720 with 9 Axes>"
            ],
            "image/png": "[encoded data removed]"
          },
          "metadata": {
            "needs_background": "light"
          }
        }
      ]
    },
    {
      "cell_type": "markdown",
      "metadata": {
        "id": "Sts35VbQGJMf"
      },
      "source": [
        "As in the original dataset, we will reserve the first 28,709 images for training and the rest for testing. "
      ]
    },
    {
      "cell_type": "code",
      "metadata": {
        "id": "ux8sgM1kptNb"
      },
      "source": [
        "train_faces, train_emotions =  faces[:28709], emotions[:28709]\n",
        "test_faces, test_emotions =  faces[28709:], emotions[28709:]"
      ],
      "execution_count": null,
      "outputs": []
    },
    {
      "cell_type": "code",
      "source": [
        "print(train_faces.shape, train_emotions.shape)"
      ],
      "metadata": {
        "colab": {
          "base_uri": "https://localhost:8080/"
        },
        "id": "Rs8BTG252Oh9",
        "outputId": "727befc2-fde6-4570-e8e3-c55253f1924f"
      },
      "execution_count": null,
      "outputs": [
        {
          "output_type": "stream",
          "name": "stdout",
          "text": [
            "(28709, 48, 48, 3) (28709, 7)\n"
          ]
        }
      ]
    },
    {
      "cell_type": "code",
      "source": [
        "print(test_faces.shape, test_emotions.shape)"
      ],
      "metadata": {
        "colab": {
          "base_uri": "https://localhost:8080/"
        },
        "id": "kr2jXspqqs7n",
        "outputId": "31703ae1-ef2d-4bcc-f381-5bb1b48fd15e"
      },
      "execution_count": null,
      "outputs": [
        {
          "output_type": "stream",
          "name": "stdout",
          "text": [
            "(7178, 48, 48, 3) (7178, 7)\n"
          ]
        }
      ]
    },
    {
      "cell_type": "markdown",
      "source": [
        "# **Construct a CNN Model**\n",
        "\n",
        "We will try a simple CNN on this dataset with three convolutional + pooling layers + one dense layer"
      ],
      "metadata": {
        "id": "-aQhn5et0LoL"
      }
    },
    {
      "cell_type": "code",
      "source": [
        "input = keras.Input(shape=train_faces.shape[1:])\n",
        "x = keras.layers.Rescaling(1./255)(input) #normalizing\n",
        "x = keras.layers.Conv2D(16, kernel_size=(2, 2), activation=\"relu\", name=\"Conv_1\")(x) # convolutional layer!\n",
        "x = keras.layers.MaxPool2D()(x) # pooling layer\n",
        "x = keras.layers.Conv2D(16, kernel_size=(2, 2), activation=\"relu\", name=\"Conv_2\")(x) # convolutional layer!\n",
        "x = keras.layers.MaxPool2D()(x) # pooling layer\n",
        "x = keras.layers.Conv2D(16, kernel_size=(2, 2), activation=\"relu\", name=\"Conv_3\")(x) # convolutional layer!\n",
        "x = keras.layers.MaxPool2D()(x) # pooling layer\n",
        "x = keras.layers.Flatten()(x)\n",
        "x = keras.layers.Dense(256, activation=\"relu\")(x)   \n",
        "output = keras.layers.Dense(7, activation=\"softmax\")(x)\n",
        "\n",
        "model = keras.Model(input, output, name='CNN_model')"
      ],
      "metadata": {
        "id": "dJD-ejmW0naX"
      },
      "execution_count": null,
      "outputs": []
    },
    {
      "cell_type": "code",
      "source": [
        "model.summary()"
      ],
      "metadata": {
        "id": "oQ9uJx7YtU4H",
        "outputId": "46d3f497-0933-416e-c5c5-b755ffe51539",
        "colab": {
          "base_uri": "https://localhost:8080/"
        }
      },
      "execution_count": null,
      "outputs": [
        {
          "output_type": "stream",
          "name": "stdout",
          "text": [
            "Model: \"CNN_model\"\n",
            "_________________________________________________________________\n",
            " Layer (type)                Output Shape              Param #   \n",
            "=================================================================\n",
            " input_5 (InputLayer)        [(None, 48, 48, 3)]       0         \n",
            "                                                                 \n",
            " rescaling_4 (Rescaling)     (None, 48, 48, 3)         0         \n",
            "                                                                 \n",
            " Conv_1 (Conv2D)             (None, 47, 47, 16)        208       \n",
            "                                                                 \n",
            " max_pooling2d_12 (MaxPoolin  (None, 23, 23, 16)       0         \n",
            " g2D)                                                            \n",
            "                                                                 \n",
            " Conv_2 (Conv2D)             (None, 22, 22, 16)        1040      \n",
            "                                                                 \n",
            " max_pooling2d_13 (MaxPoolin  (None, 11, 11, 16)       0         \n",
            " g2D)                                                            \n",
            "                                                                 \n",
            " Conv_3 (Conv2D)             (None, 10, 10, 16)        1040      \n",
            "                                                                 \n",
            " max_pooling2d_14 (MaxPoolin  (None, 5, 5, 16)         0         \n",
            " g2D)                                                            \n",
            "                                                                 \n",
            " flatten_4 (Flatten)         (None, 400)               0         \n",
            "                                                                 \n",
            " dense_8 (Dense)             (None, 256)               102656    \n",
            "                                                                 \n",
            " dense_9 (Dense)             (None, 7)                 1799      \n",
            "                                                                 \n",
            "=================================================================\n",
            "Total params: 106,743\n",
            "Trainable params: 106,743\n",
            "Non-trainable params: 0\n",
            "_________________________________________________________________\n"
          ]
        }
      ]
    },
    {
      "cell_type": "code",
      "source": [
        "model.compile(loss='categorical_crossentropy',\n",
        "             optimizer='adam',\n",
        "             metrics=['accuracy'])"
      ],
      "metadata": {
        "id": "yHAHKo0W1fym"
      },
      "execution_count": null,
      "outputs": []
    },
    {
      "cell_type": "code",
      "source": [
        "epochs = 30\n",
        "history = model.fit(train_faces, train_emotions, \n",
        "          batch_size=64, \n",
        "          epochs=epochs, \n",
        "          validation_split=0.2)"
      ],
      "metadata": {
        "colab": {
          "base_uri": "https://localhost:8080/"
        },
        "id": "tGd1oX0N1kfJ",
        "outputId": "475097b9-a7e5-4164-c229-2ecbe98cbae3"
      },
      "execution_count": null,
      "outputs": [
        {
          "output_type": "stream",
          "name": "stdout",
          "text": [
            "Epoch 1/30\n",
            "359/359 [==============================] - 2s 6ms/step - loss: 1.7155 - accuracy: 0.3123 - val_loss: 1.6138 - val_accuracy: 0.3840\n",
            "Epoch 2/30\n",
            "359/359 [==============================] - 2s 5ms/step - loss: 1.5699 - accuracy: 0.3937 - val_loss: 1.5319 - val_accuracy: 0.4152\n",
            "Epoch 3/30\n",
            "359/359 [==============================] - 2s 5ms/step - loss: 1.4997 - accuracy: 0.4191 - val_loss: 1.4659 - val_accuracy: 0.4361\n",
            "Epoch 4/30\n",
            "359/359 [==============================] - 2s 5ms/step - loss: 1.4419 - accuracy: 0.4459 - val_loss: 1.4256 - val_accuracy: 0.4565\n",
            "Epoch 5/30\n",
            "359/359 [==============================] - 2s 5ms/step - loss: 1.3924 - accuracy: 0.4676 - val_loss: 1.4100 - val_accuracy: 0.4634\n",
            "Epoch 6/30\n",
            "359/359 [==============================] - 2s 5ms/step - loss: 1.3424 - accuracy: 0.4866 - val_loss: 1.4097 - val_accuracy: 0.4653\n",
            "Epoch 7/30\n",
            "359/359 [==============================] - 2s 5ms/step - loss: 1.2941 - accuracy: 0.5050 - val_loss: 1.3753 - val_accuracy: 0.4875\n",
            "Epoch 8/30\n",
            "359/359 [==============================] - 2s 5ms/step - loss: 1.2513 - accuracy: 0.5262 - val_loss: 1.3730 - val_accuracy: 0.4889\n",
            "Epoch 9/30\n",
            "359/359 [==============================] - 2s 5ms/step - loss: 1.2042 - accuracy: 0.5457 - val_loss: 1.3772 - val_accuracy: 0.4747\n",
            "Epoch 10/30\n",
            "359/359 [==============================] - 2s 5ms/step - loss: 1.1550 - accuracy: 0.5665 - val_loss: 1.3449 - val_accuracy: 0.5002\n",
            "Epoch 11/30\n",
            "359/359 [==============================] - 2s 5ms/step - loss: 1.1046 - accuracy: 0.5868 - val_loss: 1.3728 - val_accuracy: 0.4965\n",
            "Epoch 12/30\n",
            "359/359 [==============================] - 2s 5ms/step - loss: 1.0563 - accuracy: 0.6082 - val_loss: 1.3805 - val_accuracy: 0.4958\n",
            "Epoch 13/30\n",
            "359/359 [==============================] - 2s 5ms/step - loss: 1.0056 - accuracy: 0.6292 - val_loss: 1.4014 - val_accuracy: 0.4953\n",
            "Epoch 14/30\n",
            "359/359 [==============================] - 2s 5ms/step - loss: 0.9528 - accuracy: 0.6495 - val_loss: 1.4150 - val_accuracy: 0.4981\n",
            "Epoch 15/30\n",
            "359/359 [==============================] - 2s 5ms/step - loss: 0.9045 - accuracy: 0.6711 - val_loss: 1.5019 - val_accuracy: 0.4984\n",
            "Epoch 16/30\n",
            "359/359 [==============================] - 2s 5ms/step - loss: 0.8462 - accuracy: 0.6964 - val_loss: 1.5422 - val_accuracy: 0.4850\n",
            "Epoch 17/30\n",
            "359/359 [==============================] - 2s 5ms/step - loss: 0.7840 - accuracy: 0.7182 - val_loss: 1.5597 - val_accuracy: 0.4901\n",
            "Epoch 18/30\n",
            "359/359 [==============================] - 2s 5ms/step - loss: 0.7308 - accuracy: 0.7367 - val_loss: 1.6773 - val_accuracy: 0.4955\n",
            "Epoch 19/30\n",
            "359/359 [==============================] - 2s 5ms/step - loss: 0.6803 - accuracy: 0.7583 - val_loss: 1.7109 - val_accuracy: 0.5017\n",
            "Epoch 20/30\n",
            "359/359 [==============================] - 2s 5ms/step - loss: 0.6207 - accuracy: 0.7838 - val_loss: 1.7613 - val_accuracy: 0.4976\n",
            "Epoch 21/30\n",
            "359/359 [==============================] - 2s 5ms/step - loss: 0.5694 - accuracy: 0.7982 - val_loss: 1.8828 - val_accuracy: 0.4929\n",
            "Epoch 22/30\n",
            "359/359 [==============================] - 2s 5ms/step - loss: 0.5219 - accuracy: 0.8141 - val_loss: 1.9941 - val_accuracy: 0.4770\n",
            "Epoch 23/30\n",
            "359/359 [==============================] - 2s 5ms/step - loss: 0.4876 - accuracy: 0.8281 - val_loss: 2.0592 - val_accuracy: 0.4793\n",
            "Epoch 24/30\n",
            "359/359 [==============================] - 2s 5ms/step - loss: 0.4411 - accuracy: 0.8448 - val_loss: 2.2291 - val_accuracy: 0.4826\n",
            "Epoch 25/30\n",
            "359/359 [==============================] - 2s 5ms/step - loss: 0.3942 - accuracy: 0.8653 - val_loss: 2.3353 - val_accuracy: 0.4754\n",
            "Epoch 26/30\n",
            "359/359 [==============================] - 2s 5ms/step - loss: 0.3623 - accuracy: 0.8751 - val_loss: 2.4184 - val_accuracy: 0.4774\n",
            "Epoch 27/30\n",
            "359/359 [==============================] - 2s 5ms/step - loss: 0.3311 - accuracy: 0.8859 - val_loss: 2.5940 - val_accuracy: 0.4690\n",
            "Epoch 28/30\n",
            "359/359 [==============================] - 2s 5ms/step - loss: 0.3018 - accuracy: 0.8977 - val_loss: 2.8147 - val_accuracy: 0.4693\n",
            "Epoch 29/30\n",
            "359/359 [==============================] - 2s 5ms/step - loss: 0.2720 - accuracy: 0.9083 - val_loss: 2.8737 - val_accuracy: 0.4854\n",
            "Epoch 30/30\n",
            "359/359 [==============================] - 2s 5ms/step - loss: 0.2411 - accuracy: 0.9181 - val_loss: 3.0430 - val_accuracy: 0.4828\n"
          ]
        }
      ]
    },
    {
      "cell_type": "code",
      "source": [
        "score = model.evaluate(test_faces, test_emotions)\n",
        "print(\"Test accuracy:\", score[1])"
      ],
      "metadata": {
        "colab": {
          "base_uri": "https://localhost:8080/"
        },
        "id": "Q2S3SGwF1bXW",
        "outputId": "c1e50710-64a4-4ab3-efec-bf9c891d19dc"
      },
      "execution_count": null,
      "outputs": [
        {
          "output_type": "stream",
          "name": "stdout",
          "text": [
            "225/225 [==============================] - 1s 2ms/step - loss: 3.0538 - accuracy: 0.4845\n",
            "Test accuracy: 0.4845360815525055\n"
          ]
        }
      ]
    },
    {
      "cell_type": "code",
      "source": [
        "history_dict = history.history\n",
        "acc = history_dict[\"accuracy\"]\n",
        "val_acc = history_dict[\"val_accuracy\"]\n",
        "epochs = range(1, len(acc) + 1)\n",
        "plt.plot(epochs, acc, \"bo\", label=\"Training acc\")\n",
        "plt.plot(epochs, val_acc, \"b\", label=\"Validation acc\")\n",
        "plt.title(\"Training and validation accuracy\")\n",
        "plt.xlabel(\"Epochs\")\n",
        "plt.ylabel(\"Accuracy\")\n",
        "plt.legend()\n",
        "plt.show()"
      ],
      "metadata": {
        "colab": {
          "base_uri": "https://localhost:8080/",
          "height": 295
        },
        "id": "8YHzLOsNuwbE",
        "outputId": "255bcc68-ed63-49ae-d199-aa92df6eccdd"
      },
      "execution_count": null,
      "outputs": [
        {
          "output_type": "display_data",
          "data": {
            "text/plain": [
              "<Figure size 432x288 with 1 Axes>"
            ],
            "image/png": "[encoded data removed]"
          },
          "metadata": {
            "needs_background": "light"
          }
        }
      ]
    },
    {
      "cell_type": "markdown",
      "source": [
        "# **Data Augmented CNN Model** \n"
      ],
      "metadata": {
        "id": "UIGCf1_zA5G1"
      }
    },
    {
      "cell_type": "markdown",
      "metadata": {
        "id": "3C4PGf4X1Ib5"
      },
      "source": [
        "***Data Augmentation:*** \n",
        "\n",
        "The basic idea of augmentation is to slightly alter the image so that the value of the dependent variable (i.e. the category that it belongs to) doesn't change."
      ]
    },
    {
      "cell_type": "code",
      "metadata": {
        "id": "A18vDhSv6RWK"
      },
      "source": [
        "data_augmentation = keras.Sequential(\n",
        "    [\n",
        "        keras.layers.RandomFlip(\"horizontal\"),\n",
        "        keras.layers.RandomZoom(0.2),\n",
        "    ]\n",
        ")"
      ],
      "execution_count": null,
      "outputs": []
    },
    {
      "cell_type": "markdown",
      "metadata": {
        "id": "0ehLSXqP1b5P"
      },
      "source": [
        "Lets quickly visualize what an augmentation does ... "
      ]
    },
    {
      "cell_type": "code",
      "metadata": {
        "colab": {
          "base_uri": "https://localhost:8080/",
          "height": 578
        },
        "id": "gTDMmESZ6TZ_",
        "outputId": "8c6ee894-41e8-4622-9432-7c5994c53f73"
      },
      "source": [
        "augmented_images = [data_augmentation(np.expand_dims(train_faces[0],axis=0)) for i in range(9)]\n",
        "fig = plt.figure(figsize=(10, 10))\n",
        "for i in range(9):\n",
        "    ax = fig.add_subplot(3, 3, i+1, xticks=[], yticks=[])\n",
        "    ax.imshow(tf.keras.preprocessing.image.array_to_img(augmented_images[i][0]))"
      ],
      "execution_count": null,
      "outputs": [
        {
          "output_type": "display_data",
          "data": {
            "text/plain": [
              "<Figure size 720x720 with 9 Axes>"
            ],
            "image/png": "[encoded data removed]"
          },
          "metadata": {}
        }
      ]
    },
    {
      "cell_type": "code",
      "source": [
        "input = keras.Input(shape=train_faces.shape[1:])\n",
        "\n",
        "x = data_augmentation(input)  \n",
        "\n",
        "x = keras.layers.Rescaling(1./255)(x)\n",
        "\n",
        "x = keras.layers.Conv2D(32, kernel_size=(2, 2), activation=\"relu\", name=\"Conv_1\")(x) # convolutional layer!\n",
        "x = keras.layers.MaxPool2D()(x) # pooling layer\n",
        "x = keras.layers.Conv2D(32, kernel_size=(2, 2), activation=\"relu\", name=\"Conv_2\")(x) # convolutional layer!\n",
        "x = keras.layers.MaxPool2D()(x) # pooling layer\n",
        "x = keras.layers.Conv2D(32, kernel_size=(2, 2), activation=\"relu\", name=\"Conv_3\")(x) # convolutional layer!\n",
        "x = keras.layers.MaxPool2D()(x) # pooling layer\n",
        "x = keras.layers.Flatten()(x)\n",
        "x = keras.layers.Dense(512, activation=\"relu\")(x)   \n",
        "output = keras.layers.Dense(7, activation=\"softmax\")(x)\n",
        "\n",
        "model = keras.Model(input, output, name='augmented_CNN_model')"
      ],
      "metadata": {
        "id": "9Yk6UhMrBSVt"
      },
      "execution_count": null,
      "outputs": []
    },
    {
      "cell_type": "code",
      "source": [
        "model.summary()"
      ],
      "metadata": {
        "colab": {
          "base_uri": "https://localhost:8080/"
        },
        "id": "oFDrN4GfBiRx",
        "outputId": "9b5a1ce2-d635-4641-841b-30a5ce2aac81"
      },
      "execution_count": null,
      "outputs": [
        {
          "output_type": "stream",
          "name": "stdout",
          "text": [
            "Model: \"augmented_CNN_model\"\n",
            "_________________________________________________________________\n",
            " Layer (type)                Output Shape              Param #   \n",
            "=================================================================\n",
            " input_12 (InputLayer)       [(None, 48, 48, 3)]       0         \n",
            "                                                                 \n",
            " sequential_6 (Sequential)   (None, 48, 48, 3)         0         \n",
            "                                                                 \n",
            " rescaling_11 (Rescaling)    (None, 48, 48, 3)         0         \n",
            "                                                                 \n",
            " Conv_1 (Conv2D)             (None, 47, 47, 32)        416       \n",
            "                                                                 \n",
            " max_pooling2d_33 (MaxPoolin  (None, 23, 23, 32)       0         \n",
            " g2D)                                                            \n",
            "                                                                 \n",
            " Conv_2 (Conv2D)             (None, 22, 22, 32)        4128      \n",
            "                                                                 \n",
            " max_pooling2d_34 (MaxPoolin  (None, 11, 11, 32)       0         \n",
            " g2D)                                                            \n",
            "                                                                 \n",
            " Conv_3 (Conv2D)             (None, 10, 10, 32)        4128      \n",
            "                                                                 \n",
            " max_pooling2d_35 (MaxPoolin  (None, 5, 5, 32)         0         \n",
            " g2D)                                                            \n",
            "                                                                 \n",
            " flatten_11 (Flatten)        (None, 800)               0         \n",
            "                                                                 \n",
            " dense_22 (Dense)            (None, 512)               410112    \n",
            "                                                                 \n",
            " dense_23 (Dense)            (None, 7)                 3591      \n",
            "                                                                 \n",
            "=================================================================\n",
            "Total params: 422,375\n",
            "Trainable params: 422,375\n",
            "Non-trainable params: 0\n",
            "_________________________________________________________________\n"
          ]
        }
      ]
    },
    {
      "cell_type": "code",
      "source": [
        "model.compile(loss='categorical_crossentropy',\n",
        "             optimizer='adam',\n",
        "             metrics=['accuracy'])"
      ],
      "metadata": {
        "id": "mJCy1tCyBhxb"
      },
      "execution_count": null,
      "outputs": []
    },
    {
      "cell_type": "code",
      "source": [
        "epochs = 20\n",
        "history = model.fit(train_faces, train_emotions, \n",
        "          batch_size=64, \n",
        "          epochs=epochs, \n",
        "          validation_split=0.2)"
      ],
      "metadata": {
        "colab": {
          "base_uri": "https://localhost:8080/"
        },
        "id": "PMW5t9ZOBlyC",
        "outputId": "520367c2-3a82-4ed6-8e4a-0d0872f92867"
      },
      "execution_count": null,
      "outputs": [
        {
          "output_type": "stream",
          "name": "stdout",
          "text": [
            "Epoch 1/20\n",
            "359/359 [==============================] - 3s 7ms/step - loss: 1.7301 - accuracy: 0.2971 - val_loss: 1.6037 - val_accuracy: 0.3871\n",
            "Epoch 2/20\n",
            "359/359 [==============================] - 2s 6ms/step - loss: 1.5462 - accuracy: 0.3997 - val_loss: 1.4296 - val_accuracy: 0.4511\n",
            "Epoch 3/20\n",
            "359/359 [==============================] - 2s 6ms/step - loss: 1.4488 - accuracy: 0.4417 - val_loss: 1.3671 - val_accuracy: 0.4730\n",
            "Epoch 4/20\n",
            "359/359 [==============================] - 2s 6ms/step - loss: 1.3848 - accuracy: 0.4691 - val_loss: 1.3171 - val_accuracy: 0.5000\n",
            "Epoch 5/20\n",
            "359/359 [==============================] - 2s 6ms/step - loss: 1.3333 - accuracy: 0.4871 - val_loss: 1.2824 - val_accuracy: 0.5118\n",
            "Epoch 6/20\n",
            "359/359 [==============================] - 2s 6ms/step - loss: 1.2954 - accuracy: 0.5075 - val_loss: 1.2743 - val_accuracy: 0.5080\n",
            "Epoch 7/20\n",
            "359/359 [==============================] - 2s 6ms/step - loss: 1.2668 - accuracy: 0.5158 - val_loss: 1.2390 - val_accuracy: 0.5284\n",
            "Epoch 8/20\n",
            "359/359 [==============================] - 2s 6ms/step - loss: 1.2366 - accuracy: 0.5308 - val_loss: 1.2632 - val_accuracy: 0.5207\n",
            "Epoch 9/20\n",
            "359/359 [==============================] - 2s 6ms/step - loss: 1.2100 - accuracy: 0.5419 - val_loss: 1.1847 - val_accuracy: 0.5453\n",
            "Epoch 10/20\n",
            "359/359 [==============================] - 2s 6ms/step - loss: 1.1778 - accuracy: 0.5530 - val_loss: 1.1691 - val_accuracy: 0.5559\n",
            "Epoch 11/20\n",
            "359/359 [==============================] - 2s 6ms/step - loss: 1.1579 - accuracy: 0.5586 - val_loss: 1.1792 - val_accuracy: 0.5542\n",
            "Epoch 12/20\n",
            "359/359 [==============================] - 2s 6ms/step - loss: 1.1336 - accuracy: 0.5723 - val_loss: 1.1802 - val_accuracy: 0.5613\n",
            "Epoch 13/20\n",
            "359/359 [==============================] - 2s 6ms/step - loss: 1.1133 - accuracy: 0.5794 - val_loss: 1.2058 - val_accuracy: 0.5496\n",
            "Epoch 14/20\n",
            "359/359 [==============================] - 2s 6ms/step - loss: 1.0922 - accuracy: 0.5897 - val_loss: 1.1826 - val_accuracy: 0.5573\n",
            "Epoch 15/20\n",
            "359/359 [==============================] - 2s 6ms/step - loss: 1.0779 - accuracy: 0.5925 - val_loss: 1.1640 - val_accuracy: 0.5610\n",
            "Epoch 16/20\n",
            "359/359 [==============================] - 2s 6ms/step - loss: 1.0536 - accuracy: 0.6017 - val_loss: 1.1735 - val_accuracy: 0.5552\n",
            "Epoch 17/20\n",
            "359/359 [==============================] - 2s 6ms/step - loss: 1.0342 - accuracy: 0.6108 - val_loss: 1.1884 - val_accuracy: 0.5603\n",
            "Epoch 18/20\n",
            "359/359 [==============================] - 2s 6ms/step - loss: 1.0205 - accuracy: 0.6152 - val_loss: 1.1879 - val_accuracy: 0.5667\n",
            "Epoch 19/20\n",
            "359/359 [==============================] - 2s 6ms/step - loss: 0.9955 - accuracy: 0.6265 - val_loss: 1.1657 - val_accuracy: 0.5749\n",
            "Epoch 20/20\n",
            "359/359 [==============================] - 2s 6ms/step - loss: 0.9857 - accuracy: 0.6309 - val_loss: 1.1754 - val_accuracy: 0.5742\n"
          ]
        }
      ]
    },
    {
      "cell_type": "code",
      "source": [
        "score = model.evaluate(test_faces, test_emotions)\n",
        "print(\"Test accuracy:\", score[1])"
      ],
      "metadata": {
        "colab": {
          "base_uri": "https://localhost:8080/"
        },
        "id": "terijZIKBod8",
        "outputId": "8bdaee17-63f6-45d9-abc8-63c2d196280d"
      },
      "execution_count": null,
      "outputs": [
        {
          "output_type": "stream",
          "name": "stdout",
          "text": [
            "225/225 [==============================] - 1s 3ms/step - loss: 1.2103 - accuracy: 0.5750\n",
            "Test accuracy: 0.5749512314796448\n"
          ]
        }
      ]
    },
    {
      "cell_type": "code",
      "source": [
        "history_dict = history.history\n",
        "acc = history_dict[\"accuracy\"]\n",
        "val_acc = history_dict[\"val_accuracy\"]\n",
        "epochs = range(1, len(acc) + 1)\n",
        "plt.plot(epochs, acc, \"bo\", label=\"Training acc\")\n",
        "plt.plot(epochs, val_acc, \"b\", label=\"Validation acc\")\n",
        "plt.title(\"Training and validation accuracy\")\n",
        "plt.xlabel(\"Epochs\")\n",
        "plt.ylabel(\"Accuracy\")\n",
        "plt.legend()\n",
        "plt.show()"
      ],
      "metadata": {
        "colab": {
          "base_uri": "https://localhost:8080/",
          "height": 295
        },
        "id": "xhXMussbBqTQ",
        "outputId": "5452146f-529c-4f72-9193-0423a1ce8793"
      },
      "execution_count": null,
      "outputs": [
        {
          "output_type": "display_data",
          "data": {
            "text/plain": [
              "<Figure size 432x288 with 1 Axes>"
            ],
            "image/png": "[encoded data removed]"
          },
          "metadata": {
            "needs_background": "light"
          }
        }
      ]
    },
    {
      "cell_type": "markdown",
      "metadata": {
        "id": "4Ddqer_8KbwB"
      },
      "source": [
        "# **Constructing a Transfer Learning Model**\n",
        "\n",
        "Next, we architect a basic transfer learning model. We will take a slightly different approach from what we saw in class: as opposed to generating feature vectors by running each image through a pre-trained model, we will simply (a) remove the top from an existing pre-trained model, and (b) add a custom designed top. Why are we doing this? Its so that we can 'tweak' the weights of the original pre-trained model to suit our problem."
      ]
    },
    {
      "cell_type": "markdown",
      "metadata": {
        "id": "0GdCS59whVDu"
      },
      "source": [
        "***Fine Tune Model:*** \n",
        "\n",
        "In the stub below, we define a 'fine-tuned' model to stack on top of a pre-trained base model. In contrast with what we did in class, we do not explicitly use the pre-trained model to generate stored features but incorporate it as part of the overall network. "
      ]
    },
    {
      "cell_type": "code",
      "metadata": {
        "id": "FSUlxaZvKVBd"
      },
      "source": [
        "top_model = keras.Sequential(\n",
        "    [\n",
        "        keras.layers.Flatten(),\n",
        "        keras.layers.Dense(1024, activation='relu'),\n",
        "        keras.layers.Dense(1024, activation='relu'),\n",
        "    ]\n",
        ")"
      ],
      "execution_count": null,
      "outputs": []
    },
    {
      "cell_type": "markdown",
      "metadata": {
        "id": "dHKqB9r1iH9W"
      },
      "source": [
        "***Overall Model:*** \n",
        "\n",
        "Below, we take a base-model (the VGG19 model: https://keras.io/api/applications/vgg/) and perform the following steps:\n",
        " \n",
        "\n",
        "1.   Remove the top of the model (include_top=False)\n",
        "2.   'Freeze' the model's parameters so they do not get impacted by training\n",
        "3.   Feed the output of the base model to our fine-tune model\n",
        "4.   Feed the output of our fine-tune model to a soft-max output layer.  \n",
        "5. **Unfreeze the last 10 layers of the VGG19 model so we can update those weights as well.**\n",
        "\n"
      ]
    },
    {
      "cell_type": "code",
      "metadata": {
        "id": "CYOu-5lMPZRX"
      },
      "source": [
        "def construct_model(no_classes, input_shape, metrics=['accuracy']):\n",
        "\n",
        "  base_model = keras.applications.VGG19(\n",
        "    include_top=False,\n",
        "    weights=\"imagenet\",\n",
        "    input_tensor=None,\n",
        "    input_shape=None,\n",
        "    pooling=None,\n",
        "    classes=1000,\n",
        "    classifier_activation=\"softmax\",\n",
        "  )\n",
        "\n",
        "  # Freeze the base_model\n",
        "  base_model.trainable = False\n",
        "\n",
        "  #\n",
        "  # Create new model on top\n",
        "  #\n",
        "\n",
        "  inputs = keras.Input(shape=input_shape)\n",
        "\n",
        "  x = keras.layers.Rescaling(1./255)(inputs) #normalizing\n",
        "\n",
        "  # Apply random data augmentation\n",
        "  x = data_augmentation(x)  \n",
        "\n",
        "  # The base model contains batchnorm layers. We want to keep them in inference mode\n",
        "  # when we unfreeze the base model for fine-tuning, so we make sure that the\n",
        "  # base_model is running in inference mode here. We didn't cover batchnorm \n",
        "  # layers in class so just take our word for it :-)\n",
        "  x = base_model(x, training=False)\n",
        "  \n",
        "  # Next we feed the output from our base model to the top model we designed. \n",
        "  x = top_model(x)\n",
        "  \n",
        "  outputs = keras.layers.Dense(no_classes, activation='softmax')(x)\n",
        "  \n",
        "  model = keras.Model(inputs, outputs)\n",
        "  model.summary()\n",
        "\n",
        "  #unfreeze the last 10 layers of the model so that some tweaks can be done to the weights of the VGG19 model. \n",
        "  for layer in model.layers[-10:]:\n",
        "      if not isinstance(layer, keras.layers.BatchNormalization): #the batch normalization layer is untouched \n",
        "          layer.trainable = True\n",
        "\n",
        "  model.compile(loss='categorical_crossentropy', optimizer=keras.optimizers.Adam(0.2*1e-4), metrics=metrics) #here we choose a different rate for Adam than default for a better convergence\n",
        "  \n",
        "  return model"
      ],
      "execution_count": null,
      "outputs": []
    },
    {
      "cell_type": "markdown",
      "metadata": {
        "id": "-OlMcWW6ji1Z"
      },
      "source": [
        "***Training the Overall Model***"
      ]
    },
    {
      "cell_type": "code",
      "metadata": {
        "colab": {
          "base_uri": "https://localhost:8080/"
        },
        "id": "g0Ahpg7vQ519",
        "outputId": "6ce605e6-a469-4c9f-aa4e-092effacff93"
      },
      "source": [
        "no_classes = 7\n",
        "NO_EPOCHS = 30\n",
        "model = construct_model(no_classes,(48,48,3))\n",
        "\n",
        "history = model.fit(train_faces, train_emotions, epochs=NO_EPOCHS, validation_split=0.2)"
      ],
      "execution_count": null,
      "outputs": [
        {
          "output_type": "stream",
          "name": "stdout",
          "text": [
            "Model: \"model_4\"\n",
            "_________________________________________________________________\n",
            " Layer (type)                Output Shape              Param #   \n",
            "=================================================================\n",
            " input_24 (InputLayer)       [(None, 48, 48, 3)]       0         \n",
            "                                                                 \n",
            " sequential_6 (Sequential)   (None, 48, 48, 3)         0         \n",
            "                                                                 \n",
            " vgg19 (Functional)          (None, None, None, 512)   20024384  \n",
            "                                                                 \n",
            " sequential_7 (Sequential)   (None, 1024)              1574912   \n",
            "                                                                 \n",
            " dense_30 (Dense)            (None, 7)                 7175      \n",
            "                                                                 \n",
            "=================================================================\n",
            "Total params: 21,606,471\n",
            "Trainable params: 1,582,087\n",
            "Non-trainable params: 20,024,384\n",
            "_________________________________________________________________\n",
            "Epoch 1/30\n",
            "718/718 [==============================] - 26s 34ms/step - loss: 1.6271 - accuracy: 0.3745 - val_loss: 1.3708 - val_accuracy: 0.4904\n",
            "Epoch 2/30\n",
            "718/718 [==============================] - 24s 34ms/step - loss: 1.3087 - accuracy: 0.4961 - val_loss: 1.2418 - val_accuracy: 0.5183\n",
            "Epoch 3/30\n",
            "718/718 [==============================] - 24s 33ms/step - loss: 1.1985 - accuracy: 0.5429 - val_loss: 1.1214 - val_accuracy: 0.5737\n",
            "Epoch 4/30\n",
            "718/718 [==============================] - 24s 33ms/step - loss: 1.1194 - accuracy: 0.5765 - val_loss: 1.1129 - val_accuracy: 0.5885\n",
            "Epoch 5/30\n",
            "718/718 [==============================] - 24s 33ms/step - loss: 1.0639 - accuracy: 0.5961 - val_loss: 1.0619 - val_accuracy: 0.5949\n",
            "Epoch 6/30\n",
            "718/718 [==============================] - 24s 33ms/step - loss: 1.0017 - accuracy: 0.6208 - val_loss: 1.0526 - val_accuracy: 0.5987\n",
            "Epoch 7/30\n",
            "718/718 [==============================] - 24s 33ms/step - loss: 0.9586 - accuracy: 0.6442 - val_loss: 1.0177 - val_accuracy: 0.6176\n",
            "Epoch 8/30\n",
            "718/718 [==============================] - 24s 33ms/step - loss: 0.8991 - accuracy: 0.6646 - val_loss: 1.0495 - val_accuracy: 0.6069\n",
            "Epoch 9/30\n",
            "718/718 [==============================] - 24s 33ms/step - loss: 0.8528 - accuracy: 0.6840 - val_loss: 1.0203 - val_accuracy: 0.6261\n",
            "Epoch 10/30\n",
            "718/718 [==============================] - 24s 33ms/step - loss: 0.8004 - accuracy: 0.7048 - val_loss: 0.9936 - val_accuracy: 0.6428\n",
            "Epoch 11/30\n",
            "718/718 [==============================] - 24s 33ms/step - loss: 0.7401 - accuracy: 0.7255 - val_loss: 1.0393 - val_accuracy: 0.6317\n",
            "Epoch 12/30\n",
            "718/718 [==============================] - 24s 33ms/step - loss: 0.6915 - accuracy: 0.7456 - val_loss: 1.1153 - val_accuracy: 0.6203\n",
            "Epoch 13/30\n",
            "718/718 [==============================] - 24s 33ms/step - loss: 0.6425 - accuracy: 0.7632 - val_loss: 1.1062 - val_accuracy: 0.6378\n",
            "Epoch 14/30\n",
            "718/718 [==============================] - 24s 33ms/step - loss: 0.5829 - accuracy: 0.7880 - val_loss: 1.1283 - val_accuracy: 0.6402\n",
            "Epoch 15/30\n",
            "718/718 [==============================] - 24s 33ms/step - loss: 0.5476 - accuracy: 0.8009 - val_loss: 1.1287 - val_accuracy: 0.6364\n",
            "Epoch 16/30\n",
            "718/718 [==============================] - 24s 33ms/step - loss: 0.4994 - accuracy: 0.8209 - val_loss: 1.1804 - val_accuracy: 0.6475\n",
            "Epoch 17/30\n",
            "718/718 [==============================] - 24s 33ms/step - loss: 0.4487 - accuracy: 0.8401 - val_loss: 1.2274 - val_accuracy: 0.6466\n",
            "Epoch 18/30\n",
            "718/718 [==============================] - 24s 33ms/step - loss: 0.4226 - accuracy: 0.8485 - val_loss: 1.2129 - val_accuracy: 0.6459\n",
            "Epoch 19/30\n",
            "718/718 [==============================] - 24s 33ms/step - loss: 0.3929 - accuracy: 0.8592 - val_loss: 1.3229 - val_accuracy: 0.6402\n",
            "Epoch 20/30\n",
            "718/718 [==============================] - 24s 33ms/step - loss: 0.3578 - accuracy: 0.8723 - val_loss: 1.3823 - val_accuracy: 0.6378\n",
            "Epoch 21/30\n",
            "718/718 [==============================] - 24s 33ms/step - loss: 0.3232 - accuracy: 0.8868 - val_loss: 1.4106 - val_accuracy: 0.6395\n",
            "Epoch 22/30\n",
            "718/718 [==============================] - 24s 33ms/step - loss: 0.3084 - accuracy: 0.8907 - val_loss: 1.3875 - val_accuracy: 0.6423\n",
            "Epoch 23/30\n",
            "718/718 [==============================] - 24s 33ms/step - loss: 0.2832 - accuracy: 0.9005 - val_loss: 1.5364 - val_accuracy: 0.6400\n",
            "Epoch 24/30\n",
            "718/718 [==============================] - 24s 33ms/step - loss: 0.2613 - accuracy: 0.9088 - val_loss: 1.5098 - val_accuracy: 0.6367\n",
            "Epoch 25/30\n",
            "718/718 [==============================] - 24s 33ms/step - loss: 0.2444 - accuracy: 0.9159 - val_loss: 1.5336 - val_accuracy: 0.6398\n",
            "Epoch 26/30\n",
            "718/718 [==============================] - 24s 33ms/step - loss: 0.2307 - accuracy: 0.9194 - val_loss: 1.5605 - val_accuracy: 0.6425\n",
            "Epoch 27/30\n",
            "718/718 [==============================] - 24s 33ms/step - loss: 0.2114 - accuracy: 0.9255 - val_loss: 1.5874 - val_accuracy: 0.6447\n",
            "Epoch 28/30\n",
            "718/718 [==============================] - 24s 33ms/step - loss: 0.2019 - accuracy: 0.9306 - val_loss: 1.7082 - val_accuracy: 0.6421\n",
            "Epoch 29/30\n",
            "718/718 [==============================] - 24s 33ms/step - loss: 0.1921 - accuracy: 0.9337 - val_loss: 1.6108 - val_accuracy: 0.6456\n",
            "Epoch 30/30\n",
            "718/718 [==============================] - 24s 33ms/step - loss: 0.1798 - accuracy: 0.9387 - val_loss: 1.7232 - val_accuracy: 0.6367\n"
          ]
        }
      ]
    },
    {
      "cell_type": "code",
      "source": [
        "history_dict = history.history\n",
        "acc = history_dict[\"accuracy\"]\n",
        "val_acc = history_dict[\"val_accuracy\"]\n",
        "epochs = range(1, len(acc) + 1)\n",
        "plt.plot(epochs, acc, \"bo\", label=\"Training acc\")\n",
        "plt.plot(epochs, val_acc, \"b\", label=\"Validation acc\")\n",
        "plt.title(\"Training and validation accuracy\")\n",
        "plt.xlabel(\"Epochs\")\n",
        "plt.ylabel(\"Accuracy\")\n",
        "plt.legend()\n",
        "plt.show()"
      ],
      "metadata": {
        "colab": {
          "base_uri": "https://localhost:8080/",
          "height": 295
        },
        "id": "_XWZv3tCeKWA",
        "outputId": "e2cbc730-c6c1-4795-f588-272b83561047"
      },
      "execution_count": null,
      "outputs": [
        {
          "output_type": "display_data",
          "data": {
            "text/plain": [
              "<Figure size 432x288 with 1 Axes>"
            ],
            "image/png": "[encoded data removed]"
          },
          "metadata": {
            "needs_background": "light"
          }
        }
      ]
    },
    {
      "cell_type": "code",
      "metadata": {
        "id": "kshP4LwZ9TV2"
      },
      "source": [
        "MODEL_FILE_NAME = 'fer2013VGGTransferFinal.h5'\n",
        "model.save(MODEL_FILE_NAME)"
      ],
      "execution_count": null,
      "outputs": []
    },
    {
      "cell_type": "markdown",
      "source": [
        "The accuracy for the testing set is improved significantly (the state-of-the-art with tremendous efforts is around 73.3%)"
      ],
      "metadata": {
        "id": "Trh8XLTcXnlr"
      }
    },
    {
      "cell_type": "code",
      "source": [
        "score = model.evaluate(test_faces, test_emotions)\n",
        "print(\"Test accuracy:\", score[1])"
      ],
      "metadata": {
        "colab": {
          "base_uri": "https://localhost:8080/"
        },
        "id": "mzg5PNAf1BiX",
        "outputId": "ec87ca32-c254-4ff0-f069-1a8dfa0009b4"
      },
      "execution_count": null,
      "outputs": [
        {
          "output_type": "stream",
          "name": "stdout",
          "text": [
            "225/225 [==============================] - 3s 11ms/step - loss: 1.7772 - accuracy: 0.6326\n",
            "Test accuracy: 0.6326274871826172\n"
          ]
        }
      ]
    },
    {
      "cell_type": "code",
      "source": [
        "predictions_index = model.predict(test_faces).argmax(axis=1)\n",
        "actuals_index = test_emotions.argmax(axis=1)\n",
        "\n",
        "actuals = [emotions_names[i] for i in actuals_index]\n",
        "predictions = [emotions_names[i] for i in predictions_index]"
      ],
      "metadata": {
        "id": "z1W3a8u68GVo"
      },
      "execution_count": null,
      "outputs": []
    },
    {
      "cell_type": "markdown",
      "source": [
        "Check out the confusion matrix"
      ],
      "metadata": {
        "id": "yYkyOqTgl2oT"
      }
    },
    {
      "cell_type": "code",
      "source": [
        "#df = pd.DataFrame({'Predictions': predictions, 'Actuals': actuals})\n",
        "#pd.crosstab(df.Predictions, df.Actuals)"
      ],
      "metadata": {
        "id": "1aHxeB2w85LM"
      },
      "execution_count": null,
      "outputs": []
    }
  ]
}